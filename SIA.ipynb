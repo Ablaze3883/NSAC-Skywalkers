{
  "nbformat": 4,
  "nbformat_minor": 0,
  "metadata": {
    "colab": {
      "name": "SIA.ipynb",
      "provenance": []
    },
    "kernelspec": {
      "name": "python3",
      "display_name": "Python 3"
    }
  },
  "cells": [
    {
      "cell_type": "code",
      "metadata": {
        "id": "quuEpaEC0ltW",
        "outputId": "1420e7f4-b1de-4ea2-9edf-f3d57ac8a855",
        "colab": {
          "base_uri": "https://localhost:8080/",
          "height": 386
        }
      },
      "source": [
        "!pip install pyvo"
      ],
      "execution_count": 2,
      "outputs": [
        {
          "output_type": "stream",
          "text": [
            "Collecting pyvo\n",
            "\u001b[?25l  Downloading https://files.pythonhosted.org/packages/9b/7f/f593e8ca1b2e24106165c6ecb47b4416afe346b5ff158f559cb3dd4e8d88/pyvo-1.1.tar.gz (804kB)\n",
            "\u001b[K     |████████████████████████████████| 808kB 2.8MB/s \n",
            "\u001b[?25hRequirement already satisfied: astropy in /usr/local/lib/python3.6/dist-packages (from pyvo) (4.0.1.post1)\n",
            "Requirement already satisfied: requests in /usr/local/lib/python3.6/dist-packages (from pyvo) (2.23.0)\n",
            "Collecting mimeparse\n",
            "  Downloading https://files.pythonhosted.org/packages/38/0c/7b02c30765658744acc51876781c580234cb1110296b231a3a524722f9c7/mimeparse-0.1.3.tar.gz\n",
            "Requirement already satisfied: numpy>=1.16 in /usr/local/lib/python3.6/dist-packages (from astropy->pyvo) (1.18.5)\n",
            "Requirement already satisfied: certifi>=2017.4.17 in /usr/local/lib/python3.6/dist-packages (from requests->pyvo) (2020.6.20)\n",
            "Requirement already satisfied: urllib3!=1.25.0,!=1.25.1,<1.26,>=1.21.1 in /usr/local/lib/python3.6/dist-packages (from requests->pyvo) (1.24.3)\n",
            "Requirement already satisfied: chardet<4,>=3.0.2 in /usr/local/lib/python3.6/dist-packages (from requests->pyvo) (3.0.4)\n",
            "Requirement already satisfied: idna<3,>=2.5 in /usr/local/lib/python3.6/dist-packages (from requests->pyvo) (2.10)\n",
            "Building wheels for collected packages: pyvo, mimeparse\n",
            "  Building wheel for pyvo (setup.py) ... \u001b[?25l\u001b[?25hdone\n",
            "  Created wheel for pyvo: filename=pyvo-1.1-cp36-none-any.whl size=801573 sha256=5c627561a344539fdaa86105bf6efd668043c1db0395dcc21dbf3719fd3b3221\n",
            "  Stored in directory: /root/.cache/pip/wheels/d9/00/df/656aac56938f1c83dfcb361346f74101ce1f8c849fc93b18dc\n",
            "  Building wheel for mimeparse (setup.py) ... \u001b[?25l\u001b[?25hdone\n",
            "  Created wheel for mimeparse: filename=mimeparse-0.1.3-cp36-none-any.whl size=3864 sha256=5518bb6761bcda44ae5ba5e12f458f98ce293d46a23805bd287a53168d8b991e\n",
            "  Stored in directory: /root/.cache/pip/wheels/54/ca/c7/3db47cc5c748286db22a7fab43ccf985903d2b9ca119de16ab\n",
            "Successfully built pyvo mimeparse\n",
            "Installing collected packages: mimeparse, pyvo\n",
            "Successfully installed mimeparse-0.1.3 pyvo-1.1\n"
          ],
          "name": "stdout"
        }
      ]
    },
    {
      "cell_type": "code",
      "metadata": {
        "id": "DZvPREls0z8R",
        "outputId": "7a39cac5-6ab2-42f0-88b9-c5eac48b9b28",
        "colab": {
          "base_uri": "https://localhost:8080/",
          "height": 692
        }
      },
      "source": [
        "!pip install aplpy"
      ],
      "execution_count": 3,
      "outputs": [
        {
          "output_type": "stream",
          "text": [
            "Collecting aplpy\n",
            "\u001b[?25l  Downloading https://files.pythonhosted.org/packages/92/5b/cb15d46774105bc536165f2ffa9e114509915f5983c51666512752635b8c/APLpy-2.0.3-py2.py3-none-any.whl (89kB)\n",
            "\u001b[K     |████████████████████████████████| 92kB 2.4MB/s \n",
            "\u001b[?25hCollecting pyregion>=2.0\n",
            "\u001b[?25l  Downloading https://files.pythonhosted.org/packages/9d/e9/739397a25a6197f9af396e8ab249ea04d3cc2eb32e96870e2aafcfccf7f4/pyregion-2.0.tar.gz (1.1MB)\n",
            "\u001b[K     |████████████████████████████████| 1.1MB 8.8MB/s \n",
            "\u001b[?25hRequirement already satisfied: astropy>=3.1 in /usr/local/lib/python3.6/dist-packages (from aplpy) (4.0.1.post1)\n",
            "Requirement already satisfied: shapely>=1.6 in /usr/local/lib/python3.6/dist-packages (from aplpy) (1.7.1)\n",
            "Collecting pyavm>=0.9.4\n",
            "\u001b[?25l  Downloading https://files.pythonhosted.org/packages/dc/d6/af61e7fcdd39b7d2303e6cafaee3b043bd59938d0ef69a4b7cb7bdbdb892/PyAVM-0.9.5-py2.py3-none-any.whl (378kB)\n",
            "\u001b[K     |████████████████████████████████| 378kB 24.2MB/s \n",
            "\u001b[?25hRequirement already satisfied: pillow>=4.0 in /usr/local/lib/python3.6/dist-packages (from aplpy) (7.0.0)\n",
            "Collecting reproject>=0.4\n",
            "\u001b[?25l  Downloading https://files.pythonhosted.org/packages/83/31/1c9664b719d970ddf4219499b5fd1814923da3a43e4b343ceccfb9588d7b/reproject-0.7.1-cp36-cp36m-manylinux2010_x86_64.whl (1.3MB)\n",
            "\u001b[K     |████████████████████████████████| 1.3MB 34.0MB/s \n",
            "\u001b[?25hRequirement already satisfied: scikit-image>=0.14 in /usr/local/lib/python3.6/dist-packages (from aplpy) (0.16.2)\n",
            "Requirement already satisfied: matplotlib>=2.0 in /usr/local/lib/python3.6/dist-packages (from aplpy) (3.2.2)\n",
            "Requirement already satisfied: numpy in /usr/local/lib/python3.6/dist-packages (from aplpy) (1.18.5)\n",
            "Requirement already satisfied: pyparsing>=2.0 in /usr/local/lib/python3.6/dist-packages (from pyregion>=2.0->aplpy) (2.4.7)\n",
            "Requirement already satisfied: Cython in /usr/local/lib/python3.6/dist-packages (from pyregion>=2.0->aplpy) (0.29.21)\n",
            "Collecting astropy-healpix>=0.2\n",
            "\u001b[?25l  Downloading https://files.pythonhosted.org/packages/e2/7d/71350a23da8f7d8f107d70a28871021f7e8a554f9ab175313a2685c8c9ab/astropy_healpix-0.5-cp36-cp36m-manylinux2010_x86_64.whl (204kB)\n",
            "\u001b[K     |████████████████████████████████| 204kB 48.6MB/s \n",
            "\u001b[?25hRequirement already satisfied: scipy>=1.1 in /usr/local/lib/python3.6/dist-packages (from reproject>=0.4->aplpy) (1.4.1)\n",
            "Requirement already satisfied: imageio>=2.3.0 in /usr/local/lib/python3.6/dist-packages (from scikit-image>=0.14->aplpy) (2.4.1)\n",
            "Requirement already satisfied: networkx>=2.0 in /usr/local/lib/python3.6/dist-packages (from scikit-image>=0.14->aplpy) (2.5)\n",
            "Requirement already satisfied: PyWavelets>=0.4.0 in /usr/local/lib/python3.6/dist-packages (from scikit-image>=0.14->aplpy) (1.1.1)\n",
            "Requirement already satisfied: kiwisolver>=1.0.1 in /usr/local/lib/python3.6/dist-packages (from matplotlib>=2.0->aplpy) (1.2.0)\n",
            "Requirement already satisfied: cycler>=0.10 in /usr/local/lib/python3.6/dist-packages (from matplotlib>=2.0->aplpy) (0.10.0)\n",
            "Requirement already satisfied: python-dateutil>=2.1 in /usr/local/lib/python3.6/dist-packages (from matplotlib>=2.0->aplpy) (2.8.1)\n",
            "Requirement already satisfied: decorator>=4.3.0 in /usr/local/lib/python3.6/dist-packages (from networkx>=2.0->scikit-image>=0.14->aplpy) (4.4.2)\n",
            "Requirement already satisfied: six in /usr/local/lib/python3.6/dist-packages (from cycler>=0.10->matplotlib>=2.0->aplpy) (1.15.0)\n",
            "Building wheels for collected packages: pyregion\n",
            "  Building wheel for pyregion (setup.py) ... \u001b[?25l\u001b[?25hdone\n",
            "  Created wheel for pyregion: filename=pyregion-2.0-cp36-cp36m-linux_x86_64.whl size=308456 sha256=2145ebbd908d898eea010fbbc585c6ae9a62ad7e8ff86b17c1825f6154d08e6c\n",
            "  Stored in directory: /root/.cache/pip/wheels/ca/2c/2b/c95350df7d42ba9044b7528c5ba549bead550433b189008a7f\n",
            "Successfully built pyregion\n",
            "Installing collected packages: pyregion, pyavm, astropy-healpix, reproject, aplpy\n",
            "Successfully installed aplpy-2.0.3 astropy-healpix-0.5 pyavm-0.9.5 pyregion-2.0 reproject-0.7.1\n"
          ],
          "name": "stdout"
        }
      ]
    },
    {
      "cell_type": "code",
      "metadata": {
        "id": "PpgQo0ihz4Qy"
      },
      "source": [
        "import numpy as np\n",
        "\n",
        "import matplotlib\n",
        "import matplotlib.pyplot as plt\n",
        "%matplotlib inline  \n",
        "\n",
        "import pyvo as vo\n",
        "\n",
        "from astropy.io import fits\n",
        "import astropy.coordinates as coord\n",
        "# For downloading files\n",
        "from astropy.utils.data import download_file\n",
        "\n",
        "import aplpy\n",
        "from IPython.display import Image as ipImage, display\n",
        "\n",
        "# There are a number of relatively unimportant warnings that show up, so for now, suppress them:\n",
        "import warnings\n",
        "warnings.filterwarnings(\"ignore\", module=\"astropy.io.votable.*\")\n",
        "warnings.filterwarnings(\"ignore\", module=\"pyvo.utils.xml.*\")"
      ],
      "execution_count": 4,
      "outputs": []
    },
    {
      "cell_type": "code",
      "metadata": {
        "id": "2VyYsebsz-JF",
        "outputId": "5960c32f-bf50-469c-94b9-c893db9ec60f",
        "colab": {
          "base_uri": "https://localhost:8080/",
          "height": 515
        }
      },
      "source": [
        "uv_services = vo.regsearch(servicetype='image',waveband='uv')\n",
        "uv_services.to_table()['ivoid','short_name','res_title']"
      ],
      "execution_count": 5,
      "outputs": [
        {
          "output_type": "execute_result",
          "data": {
            "text/html": [
              "<i>Table length=22</i>\n",
              "<table id=\"table139740801946792\" class=\"table-striped table-bordered table-condensed\">\n",
              "<thead><tr><th>ivoid</th><th>short_name</th><th>res_title</th></tr></thead>\n",
              "<thead><tr><th>object</th><th>object</th><th>object</th></tr></thead>\n",
              "<tr><td>ivo://archive.stsci.edu/sia/galex</td><td>GALEX</td><td>Galaxy Evolution Explorer</td></tr>\n",
              "<tr><td>ivo://archive.stsci.edu/siap/hla</td><td>HLA</td><td>Hubble Legacy Archive</td></tr>\n",
              "<tr><td>ivo://irsa.ipac/mast/scrapbook</td><td>MAST-Scrapbook</td><td>The MAST Image Scrapbook</td></tr>\n",
              "<tr><td>ivo://irsa.ipac/spitzer/images/lvl</td><td>LVL</td><td>Spitzer Local Volume Legacy Survey</td></tr>\n",
              "<tr><td>ivo://irsa.ipac/wise/images/z0mgs</td><td>z0MGS</td><td>The z=0 Multiwavelength Galaxy Synthesis</td></tr>\n",
              "<tr><td>ivo://mast.stsci/acsggct</td><td>HST.ACSGGCT</td><td>ACS Galactic Globular Cluster Survey (ACSGGCT)</td></tr>\n",
              "<tr><td>ivo://mast.stsci/angrrr</td><td>HST.ANGRRR</td><td>Archive of Nearby Galaxies: Reduce, Reuse, Recycle (ANGRRR)</td></tr>\n",
              "<tr><td>ivo://mast.stsci/candels</td><td>CANDELS</td><td>Cosmic Assembly Near-IR Deep Extragalactic Legacy Survey (CANDELS)</td></tr>\n",
              "<tr><td>ivo://mast.stsci/clash</td><td>HST.CLASH</td><td>Cluster Lensing And Supernova survey with Hubble (CLASH)</td></tr>\n",
              "<tr><td>ivo://mast.stsci/hippies</td><td>HST.HIPPIES</td><td>Hubble Infrared Pure Parallel Imaging Extragalactic Survey (HIPPIES)</td></tr>\n",
              "<tr><td>ivo://mast.stsci/phat</td><td>PHAT</td><td>Panchromatic Hubble Andromeda Treasury (PHAT)</td></tr>\n",
              "<tr><td>ivo://mast.stsci/siap/galex_atlas</td><td>GALEX_Atlas</td><td>GALEX Atlas of Nearby Galaxies</td></tr>\n",
              "<tr><td>ivo://mast.stsci/siap/hst.maoz_atlas</td><td>HST.maoz_atlas</td><td>HST Ultraviolet Atlas of Nearby Galaxies</td></tr>\n",
              "<tr><td>ivo://mast.stsci/siap/udfuv</td><td>HST.udfuv</td><td>Hubble Space Telescope Ultraviolet Images of the UDF and HDF</td></tr>\n",
              "<tr><td>ivo://mast.stsci/siap/uit</td><td>UIT</td><td>Ultraviolet Imaging Telescope (UIT)</td></tr>\n",
              "<tr><td>ivo://mast.stsci/stpr</td><td>HST PR Images</td><td>Hubble Space Telescope Press Release Image Archive 2008-2010</td></tr>\n",
              "<tr><td>ivo://nasa.heasarc/skyview/euve</td><td>EUVE</td><td>Extreme Ultraviolet Explorer: 83 A</td></tr>\n",
              "<tr><td>ivo://nasa.heasarc/skyview/galex</td><td>GALEX</td><td>Galaxy Explorer All Sky Survey: Near UV</td></tr>\n",
              "<tr><td>ivo://nasa.heasarc/skyview/skyview</td><td>SkyView</td><td>SkyView Virtual Observatory</td></tr>\n",
              "<tr><td>ivo://nasa.heasarc/skyview/swiftuvot</td><td>SWIFTUVOT</td><td>Swift UVOT Combined V Intensity Images</td></tr>\n",
              "<tr><td>ivo://nasa.heasarc/skyview/wfcf</td><td>WFCF</td><td>ROSAT Wide Field Camera: F1</td></tr>\n",
              "<tr><td>ivo://ned.ipac/image</td><td>NED(images)</td><td>The NASA/IPAC Extragalactic Database Image Data Atlas</td></tr>\n",
              "</table>"
            ],
            "text/plain": [
              "<Table length=22>\n",
              "               ivoid                 ...\n",
              "               object                ...\n",
              "------------------------------------ ...\n",
              "   ivo://archive.stsci.edu/sia/galex ...\n",
              "    ivo://archive.stsci.edu/siap/hla ...\n",
              "      ivo://irsa.ipac/mast/scrapbook ...\n",
              "  ivo://irsa.ipac/spitzer/images/lvl ...\n",
              "   ivo://irsa.ipac/wise/images/z0mgs ...\n",
              "            ivo://mast.stsci/acsggct ...\n",
              "             ivo://mast.stsci/angrrr ...\n",
              "            ivo://mast.stsci/candels ...\n",
              "              ivo://mast.stsci/clash ...\n",
              "            ivo://mast.stsci/hippies ...\n",
              "               ivo://mast.stsci/phat ...\n",
              "   ivo://mast.stsci/siap/galex_atlas ...\n",
              "ivo://mast.stsci/siap/hst.maoz_atlas ...\n",
              "         ivo://mast.stsci/siap/udfuv ...\n",
              "           ivo://mast.stsci/siap/uit ...\n",
              "               ivo://mast.stsci/stpr ...\n",
              "     ivo://nasa.heasarc/skyview/euve ...\n",
              "    ivo://nasa.heasarc/skyview/galex ...\n",
              "  ivo://nasa.heasarc/skyview/skyview ...\n",
              "ivo://nasa.heasarc/skyview/swiftuvot ...\n",
              "     ivo://nasa.heasarc/skyview/wfcf ...\n",
              "                ivo://ned.ipac/image ..."
            ]
          },
          "metadata": {
            "tags": []
          },
          "execution_count": 5
        }
      ]
    },
    {
      "cell_type": "code",
      "metadata": {
        "id": "GQRS2w_-z_7k",
        "outputId": "5838fa36-f0ee-4b6b-ab8e-53d675ba48cd",
        "colab": {
          "base_uri": "https://localhost:8080/",
          "height": 95
        }
      },
      "source": [
        "uvot_services = vo.regsearch(servicetype='image',waveband='uv',keywords=['SWIFT'])\n",
        "uvot_services.to_table()['ivoid','short_name','res_title']"
      ],
      "execution_count": 6,
      "outputs": [
        {
          "output_type": "execute_result",
          "data": {
            "text/html": [
              "<i>Table length=1</i>\n",
              "<table id=\"table139740978852024\" class=\"table-striped table-bordered table-condensed\">\n",
              "<thead><tr><th>ivoid</th><th>short_name</th><th>res_title</th></tr></thead>\n",
              "<thead><tr><th>object</th><th>object</th><th>object</th></tr></thead>\n",
              "<tr><td>ivo://nasa.heasarc/skyview/swiftuvot</td><td>SWIFTUVOT</td><td>Swift UVOT Combined V Intensity Images</td></tr>\n",
              "</table>"
            ],
            "text/plain": [
              "<Table length=1>\n",
              "               ivoid                 ...               res_title               \n",
              "               object                ...                 object                \n",
              "------------------------------------ ... --------------------------------------\n",
              "ivo://nasa.heasarc/skyview/swiftuvot ... Swift UVOT Combined V Intensity Images"
            ]
          },
          "metadata": {
            "tags": []
          },
          "execution_count": 6
        }
      ]
    },
    {
      "cell_type": "code",
      "metadata": {
        "id": "BECC2MVR0COB",
        "outputId": "ae7c3376-71ec-4a93-a8d0-9fad5a9c6bcf",
        "colab": {
          "base_uri": "https://localhost:8080/",
          "height": 316
        }
      },
      "source": [
        "coords = coord.SkyCoord.from_name(\"Centaurus A\")\n",
        "\n",
        "im_table = uvot_services[0].search(pos=coords,size=0.2,format='image/jpeg')\n",
        "im_table.to_table()"
      ],
      "execution_count": 12,
      "outputs": [
        {
          "output_type": "execute_result",
          "data": {
            "text/html": [
              "<i>Table length=6</i>\n",
              "<table id=\"table139740941608776\" class=\"table-striped table-bordered table-condensed\">\n",
              "<thead><tr><th>Survey</th><th>Ra</th><th>Dec</th><th>Dim</th><th>Size</th><th>Scale</th><th>Format</th><th>PixFlags</th><th>URL</th><th>LogicalName</th></tr></thead>\n",
              "<thead><tr><th>object</th><th>float64</th><th>float64</th><th>int32</th><th>object</th><th>object</th><th>object</th><th>object</th><th>object</th><th>object</th></tr></thead>\n",
              "<tr><td>swiftuvotvint</td><td>201.365062879333</td><td>-43.019112667361</td><td>2</td><td>[300 300]</td><td>[-0.0006666666666666668 0.0006666666666666668]</td><td>image/jpeg</td><td>F</td><td>https://skyview.gsfc.nasa.gov/cgi-bin/images?position=201.365062879333%2C-43.019112667361&amp;survey=swiftuvotvint&amp;pixels=300%2C300&amp;sampler=LI&amp;size=0.20000000000000004%2C0.20000000000000004&amp;projection=Tan&amp;coordinates=J2000.0&amp;requestID=skv1601712466099&amp;nofits=1&amp;quicklook=jpeg&amp;return=jpeg</td><td>1</td></tr>\n",
              "<tr><td>swiftuvotbint</td><td>201.365062879333</td><td>-43.019112667361</td><td>2</td><td>[300 300]</td><td>[-0.0006666666666666668 0.0006666666666666668]</td><td>image/jpeg</td><td>F</td><td>https://skyview.gsfc.nasa.gov/cgi-bin/images?position=201.365062879333%2C-43.019112667361&amp;survey=swiftuvotbint&amp;pixels=300%2C300&amp;sampler=LI&amp;size=0.20000000000000004%2C0.20000000000000004&amp;projection=Tan&amp;coordinates=J2000.0&amp;requestID=skv1601712466536&amp;nofits=1&amp;quicklook=jpeg&amp;return=jpeg</td><td>2</td></tr>\n",
              "<tr><td>swiftuvotuint</td><td>201.365062879333</td><td>-43.019112667361</td><td>2</td><td>[300 300]</td><td>[-0.0006666666666666668 0.0006666666666666668]</td><td>image/jpeg</td><td>F</td><td>https://skyview.gsfc.nasa.gov/cgi-bin/images?position=201.365062879333%2C-43.019112667361&amp;survey=swiftuvotuint&amp;pixels=300%2C300&amp;sampler=LI&amp;size=0.20000000000000004%2C0.20000000000000004&amp;projection=Tan&amp;coordinates=J2000.0&amp;requestID=skv1601712468103&amp;nofits=1&amp;quicklook=jpeg&amp;return=jpeg</td><td>3</td></tr>\n",
              "<tr><td>swiftuvotuvw1int</td><td>201.365062879333</td><td>-43.019112667361</td><td>2</td><td>[300 300]</td><td>[-0.0006666666666666668 0.0006666666666666668]</td><td>image/jpeg</td><td>F</td><td>https://skyview.gsfc.nasa.gov/cgi-bin/images?position=201.365062879333%2C-43.019112667361&amp;survey=swiftuvotuvw1int&amp;pixels=300%2C300&amp;sampler=LI&amp;size=0.20000000000000004%2C0.20000000000000004&amp;projection=Tan&amp;coordinates=J2000.0&amp;requestID=skv1601712469659&amp;nofits=1&amp;quicklook=jpeg&amp;return=jpeg</td><td>4</td></tr>\n",
              "<tr><td>swiftuvotuvw2int</td><td>201.365062879333</td><td>-43.019112667361</td><td>2</td><td>[300 300]</td><td>[-0.0006666666666666668 0.0006666666666666668]</td><td>image/jpeg</td><td>F</td><td>https://skyview.gsfc.nasa.gov/cgi-bin/images?position=201.365062879333%2C-43.019112667361&amp;survey=swiftuvotuvw2int&amp;pixels=300%2C300&amp;sampler=LI&amp;size=0.20000000000000004%2C0.20000000000000004&amp;projection=Tan&amp;coordinates=J2000.0&amp;requestID=skv1601712473201&amp;nofits=1&amp;quicklook=jpeg&amp;return=jpeg</td><td>5</td></tr>\n",
              "<tr><td>swiftuvotuvm2int</td><td>201.365062879333</td><td>-43.019112667361</td><td>2</td><td>[300 300]</td><td>[-0.0006666666666666668 0.0006666666666666668]</td><td>image/jpeg</td><td>F</td><td>https://skyview.gsfc.nasa.gov/cgi-bin/images?position=201.365062879333%2C-43.019112667361&amp;survey=swiftuvotuvm2int&amp;pixels=300%2C300&amp;sampler=LI&amp;size=0.20000000000000004%2C0.20000000000000004&amp;projection=Tan&amp;coordinates=J2000.0&amp;requestID=skv1601712476974&amp;nofits=1&amp;quicklook=jpeg&amp;return=jpeg</td><td>6</td></tr>\n",
              "</table>"
            ],
            "text/plain": [
              "<Table length=6>\n",
              "     Survey             Ra        ... LogicalName\n",
              "     object          float64      ...    object  \n",
              "---------------- ---------------- ... -----------\n",
              "   swiftuvotvint 201.365062879333 ...           1\n",
              "   swiftuvotbint 201.365062879333 ...           2\n",
              "   swiftuvotuint 201.365062879333 ...           3\n",
              "swiftuvotuvw1int 201.365062879333 ...           4\n",
              "swiftuvotuvw2int 201.365062879333 ...           5\n",
              "swiftuvotuvm2int 201.365062879333 ...           6"
            ]
          },
          "metadata": {
            "tags": []
          },
          "execution_count": 12
        }
      ]
    },
    {
      "cell_type": "code",
      "metadata": {
        "id": "RUZHlEi30Eju",
        "outputId": "b9831348-2613-4375-de29-576c874ff2e0",
        "colab": {
          "base_uri": "https://localhost:8080/",
          "height": 54
        }
      },
      "source": [
        "url = im_table[0].getdataurl()\n",
        "print(url)"
      ],
      "execution_count": 13,
      "outputs": [
        {
          "output_type": "stream",
          "text": [
            "https://skyview.gsfc.nasa.gov/cgi-bin/images?position=201.365062879333%2C-43.019112667361&survey=swiftuvotvint&pixels=300%2C300&sampler=LI&size=0.20000000000000004%2C0.20000000000000004&projection=Tan&coordinates=J2000.0&requestID=skv1601712466099&nofits=1&quicklook=jpeg&return=jpeg\n"
          ],
          "name": "stdout"
        }
      ]
    },
    {
      "cell_type": "code",
      "metadata": {
        "id": "oYpPwYTS0Eiu",
        "outputId": "7988d513-826e-48d0-ad45-d0a86feeecbc",
        "colab": {
          "base_uri": "https://localhost:8080/",
          "height": 321
        }
      },
      "source": [
        "img = ipImage(url=im_table[0].getdataurl())\n",
        "display(img)"
      ],
      "execution_count": 14,
      "outputs": [
        {
          "output_type": "display_data",
          "data": {
            "text/html": [
              "<img src=\"https://skyview.gsfc.nasa.gov/cgi-bin/images?position=201.365062879333%2C-43.019112667361&survey=swiftuvotvint&pixels=300%2C300&sampler=LI&size=0.20000000000000004%2C0.20000000000000004&projection=Tan&coordinates=J2000.0&requestID=skv1601712466099&nofits=1&quicklook=jpeg&return=jpeg\"/>"
            ],
            "text/plain": [
              "<IPython.core.display.Image object>"
            ]
          },
          "metadata": {
            "tags": []
          }
        }
      ]
    },
    {
      "cell_type": "code",
      "metadata": {
        "id": "cSPCV_Vy0JNX",
        "outputId": "85d5cdaa-58f4-4e86-c1f8-33263a1416c7",
        "colab": {
          "base_uri": "https://localhost:8080/",
          "height": 67
        }
      },
      "source": [
        "im_table = uvot_services[0].search(pos=coords,size=0.2,format='image/fits')\n",
        "#  Hand the url of the first result to fits.open()\n",
        "hdu_list = fits.open(im_table[0].getdataurl())\n",
        "hdu_list.info()"
      ],
      "execution_count": 15,
      "outputs": [
        {
          "output_type": "stream",
          "text": [
            "Filename: /root/.astropy/cache/download/py3/9534e4ca3fd989d5469fff2d9553987c\n",
            "No.    Name      Ver    Type      Cards   Dimensions   Format\n",
            "  0  PRIMARY       1 PrimaryHDU     111   (300, 300)   float32   \n"
          ],
          "name": "stdout"
        }
      ]
    },
    {
      "cell_type": "code",
      "metadata": {
        "id": "yOZLLcBW6u_n",
        "outputId": "817f7291-0063-467e-80a1-2cddef10bddb",
        "colab": {
          "base_uri": "https://localhost:8080/",
          "height": 282
        }
      },
      "source": [
        "plt.imshow(hdu_list[0].data, cmap='gray', origin='lower',vmax=0.1)"
      ],
      "execution_count": 16,
      "outputs": [
        {
          "output_type": "execute_result",
          "data": {
            "text/plain": [
              "<matplotlib.image.AxesImage at 0x7f17f0946e48>"
            ]
          },
          "metadata": {
            "tags": []
          },
          "execution_count": 16
        },
        {
          "output_type": "display_data",
          "data": {
            "image/png": "[encoded data removed]",
            "text/plain": [
              "<Figure size 432x288 with 1 Axes>"
            ]
          },
          "metadata": {
            "tags": [],
            "needs_background": "light"
          }
        }
      ]
    },
    {
      "cell_type": "code",
      "metadata": {
        "id": "qhvUdLzu0RZ5"
      },
      "source": [
        ""
      ],
      "execution_count": null,
      "outputs": []
    }
  ]
}