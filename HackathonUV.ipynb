{
 "cells": [
  {
   "cell_type": "code",
   "execution_count": 1,
   "metadata": {},
   "outputs": [],
   "source": [
    "import numpy as np\n",
    "\n",
    "import matplotlib\n",
    "import matplotlib.pyplot as plt\n",
    "%matplotlib inline  \n",
    "\n",
    "import requests, io\n",
    "\n",
    "from astropy.table import Table\n",
    "import astropy.io.fits as fits\n",
    "from astropy.coordinates import SkyCoord\n",
    
    "from astropy.utils.data import download_file\n",
    "\n",
    "import pyvo as vo\n",
    "\n",
   
    "import warnings\n",
    "warnings.filterwarnings(\"ignore\", module=\"astropy.io.votable.*\")\n",
    "warnings.filterwarnings(\"ignore\", module=\"pyvo.utils.xml.*\")"
   ]
  },
  {
   "cell_type": "code",
   "execution_count": 9,
   "metadata": {
    "scrolled": true
   },
   "outputs": [
    {
     "data": {
      "text/html": [
       "<i>Table masked=True length=15</i>\n",
       "<table id=\"table2933041119304\" class=\"table-striped table-bordered table-condensed\">\n",
       "<thead><tr><th>ivoid</th><th>short_name</th></tr></thead>\n",
       "<thead><tr><th>object</th><th>object</th></tr></thead>\n",
       "<tr><td>ivo://au.csiro/casda/ssa</td><td>CSIRO ASKAP SSA</td></tr>\n",
       "<tr><td>ivo://mast.stsci/ssap/befs</td><td>BEFS</td></tr>\n",
       "<tr><td>ivo://mast.stsci/ssap/euve</td><td>EUVE</td></tr>\n",
       "<tr><td>ivo://mast.stsci/ssap/fuse</td><td>FUSE</td></tr>\n",
       "<tr><td>ivo://mast.stsci/ssap/hst</td><td>HST Spectra</td></tr>\n",
       "<tr><td>ivo://mast.stsci/ssap/hst/fos</td><td>HST.FOS Spectra</td></tr>\n",
       "<tr><td>ivo://mast.stsci/ssap/hst/ghrs</td><td>HST.GHRS Spectra</td></tr>\n",
       "<tr><td>ivo://mast.stsci/ssap/hst/stis</td><td>HST STIS Spectra</td></tr>\n",
       "<tr><td>ivo://mast.stsci/ssap/hut</td><td>HUT</td></tr>\n",
       "<tr><td>ivo://mast.stsci/ssap/iue</td><td>IUE</td></tr>\n",
       "<tr><td>ivo://mast.stsci/ssap/tues</td><td>TUES</td></tr>\n",
       "<tr><td>ivo://mast.stsci/ssap/wuppe</td><td>WUPPE</td></tr>\n",
       "<tr><td>ivo://ned.ipac/sed_data_near_position</td><td>NED/SED</td></tr>\n",
       "<tr><td>ivo://org.gavo.dc/theossa/q/ssa</td><td>theossa</td></tr>\n",
       "<tr><td>ivo://vopdc.obspm/lesia/bestars/bess</td><td>BeSS</td></tr>\n",
       "</table>"
      ],
      "text/plain": [
       "<Table masked=True length=15>\n",
       "                ivoid                    short_name   \n",
       "                object                     object     \n",
       "------------------------------------- ----------------\n",
       "             ivo://au.csiro/casda/ssa  CSIRO ASKAP SSA\n",
       "           ivo://mast.stsci/ssap/befs             BEFS\n",
       "           ivo://mast.stsci/ssap/euve             EUVE\n",
       "           ivo://mast.stsci/ssap/fuse             FUSE\n",
       "            ivo://mast.stsci/ssap/hst      HST Spectra\n",
       "        ivo://mast.stsci/ssap/hst/fos  HST.FOS Spectra\n",
       "       ivo://mast.stsci/ssap/hst/ghrs HST.GHRS Spectra\n",
       "       ivo://mast.stsci/ssap/hst/stis HST STIS Spectra\n",
       "            ivo://mast.stsci/ssap/hut              HUT\n",
       "            ivo://mast.stsci/ssap/iue              IUE\n",
       "           ivo://mast.stsci/ssap/tues             TUES\n",
       "          ivo://mast.stsci/ssap/wuppe            WUPPE\n",
       "ivo://ned.ipac/sed_data_near_position          NED/SED\n",
       "      ivo://org.gavo.dc/theossa/q/ssa          theossa\n",
       " ivo://vopdc.obspm/lesia/bestars/bess             BeSS"
      ]
     },
     "execution_count": 9,
     "metadata": {},
     "output_type": "execute_result"
    }
   ],
   "source": [
    "services = vo.regsearch(servicetype='ssa',waveband='uv')\n",
    "services.to_table()['ivoid','short_name']"
   ]
  },
  {
   "cell_type": "code",
   "execution_count": 68,
   "metadata": {
    "scrolled": true
   },
   "outputs": [
    {
     "ename": "NameResolveError",
     "evalue": "Unable to find coordinates for name 'Magellanic Cloud'",
     "output_type": "error",
     "traceback": [
      "\u001b[1;31m---------------------------------------------------------------------------\u001b[0m",
      "\u001b[1;31mNameResolveError\u001b[0m                          Traceback (most recent call last)",
      "\u001b[1;32m<ipython-input-68-2d3a3a4992c9>\u001b[0m in \u001b[0;36m<module>\u001b[1;34m\u001b[0m\n\u001b[0;32m      1\u001b[0m \u001b[0mchandra_service\u001b[0m \u001b[1;33m=\u001b[0m \u001b[1;33m[\u001b[0m\u001b[0ms\u001b[0m \u001b[1;32mfor\u001b[0m \u001b[0ms\u001b[0m \u001b[1;32min\u001b[0m \u001b[0mservices\u001b[0m \u001b[1;32mif\u001b[0m \u001b[1;34m'IUE'\u001b[0m \u001b[1;32min\u001b[0m \u001b[0ms\u001b[0m\u001b[1;33m.\u001b[0m\u001b[0mshort_name\u001b[0m\u001b[1;33m]\u001b[0m\u001b[1;33m[\u001b[0m\u001b[1;36m0\u001b[0m\u001b[1;33m]\u001b[0m\u001b[1;33m\u001b[0m\u001b[1;33m\u001b[0m\u001b[0m\n\u001b[0;32m      2\u001b[0m \u001b[0mchandra_service\u001b[0m\u001b[1;33m.\u001b[0m\u001b[0maccess_url\u001b[0m\u001b[1;33m\u001b[0m\u001b[1;33m\u001b[0m\u001b[0m\n\u001b[1;32m----> 3\u001b[1;33m \u001b[0mdelori\u001b[0m \u001b[1;33m=\u001b[0m \u001b[0mSkyCoord\u001b[0m\u001b[1;33m.\u001b[0m\u001b[0mfrom_name\u001b[0m\u001b[1;33m(\u001b[0m\u001b[1;34m\"Magellanic Cloud\"\u001b[0m\u001b[1;33m)\u001b[0m\u001b[1;33m\u001b[0m\u001b[1;33m\u001b[0m\u001b[0m\n\u001b[0m\u001b[0;32m      4\u001b[0m \u001b[1;33m\u001b[0m\u001b[0m\n\u001b[0;32m      5\u001b[0m \u001b[0mspec_tables\u001b[0m \u001b[1;33m=\u001b[0m \u001b[0mchandra_service\u001b[0m\u001b[1;33m.\u001b[0m\u001b[0msearch\u001b[0m\u001b[1;33m(\u001b[0m\u001b[0mpos\u001b[0m\u001b[1;33m=\u001b[0m\u001b[0mdelori\u001b[0m\u001b[1;33m,\u001b[0m\u001b[0mdiameter\u001b[0m\u001b[1;33m=\u001b[0m\u001b[1;36m0.1\u001b[0m\u001b[1;33m)\u001b[0m\u001b[1;33m\u001b[0m\u001b[1;33m\u001b[0m\u001b[0m\n",
      "\u001b[1;32m~\\Anaconda3\\lib\\site-packages\\astropy\\coordinates\\sky_coordinate.py\u001b[0m in \u001b[0;36mfrom_name\u001b[1;34m(cls, name, frame, parse)\u001b[0m\n\u001b[0;32m   1693\u001b[0m         \u001b[1;32mfrom\u001b[0m \u001b[1;33m.\u001b[0m\u001b[0mname_resolve\u001b[0m \u001b[1;32mimport\u001b[0m \u001b[0mget_icrs_coordinates\u001b[0m\u001b[1;33m\u001b[0m\u001b[1;33m\u001b[0m\u001b[0m\n\u001b[0;32m   1694\u001b[0m \u001b[1;33m\u001b[0m\u001b[0m\n\u001b[1;32m-> 1695\u001b[1;33m         \u001b[0micrs_coord\u001b[0m \u001b[1;33m=\u001b[0m \u001b[0mget_icrs_coordinates\u001b[0m\u001b[1;33m(\u001b[0m\u001b[0mname\u001b[0m\u001b[1;33m,\u001b[0m \u001b[0mparse\u001b[0m\u001b[1;33m)\u001b[0m\u001b[1;33m\u001b[0m\u001b[1;33m\u001b[0m\u001b[0m\n\u001b[0m\u001b[0;32m   1696\u001b[0m         \u001b[0micrs_sky_coord\u001b[0m \u001b[1;33m=\u001b[0m \u001b[0mcls\u001b[0m\u001b[1;33m(\u001b[0m\u001b[0micrs_coord\u001b[0m\u001b[1;33m)\u001b[0m\u001b[1;33m\u001b[0m\u001b[1;33m\u001b[0m\u001b[0m\n\u001b[0;32m   1697\u001b[0m         \u001b[1;32mif\u001b[0m \u001b[0mframe\u001b[0m \u001b[1;32min\u001b[0m \u001b[1;33m(\u001b[0m\u001b[1;34m'icrs'\u001b[0m\u001b[1;33m,\u001b[0m \u001b[0micrs_coord\u001b[0m\u001b[1;33m.\u001b[0m\u001b[0m__class__\u001b[0m\u001b[1;33m)\u001b[0m\u001b[1;33m:\u001b[0m\u001b[1;33m\u001b[0m\u001b[1;33m\u001b[0m\u001b[0m\n",
      "\u001b[1;32m~\\Anaconda3\\lib\\site-packages\\astropy\\coordinates\\name_resolve.py\u001b[0m in \u001b[0;36mget_icrs_coordinates\u001b[1;34m(name, parse)\u001b[0m\n\u001b[0;32m    189\u001b[0m                   \u001b[1;33m.\u001b[0m\u001b[0mformat\u001b[0m\u001b[1;33m(\u001b[0m\u001b[0mname\u001b[0m\u001b[1;33m,\u001b[0m \u001b[0mdatabase\u001b[0m\u001b[1;33m)\u001b[0m\u001b[1;33m\u001b[0m\u001b[1;33m\u001b[0m\u001b[0m\n\u001b[0;32m    190\u001b[0m \u001b[1;33m\u001b[0m\u001b[0m\n\u001b[1;32m--> 191\u001b[1;33m         \u001b[1;32mraise\u001b[0m \u001b[0mNameResolveError\u001b[0m\u001b[1;33m(\u001b[0m\u001b[0merr\u001b[0m\u001b[1;33m)\u001b[0m\u001b[1;33m\u001b[0m\u001b[1;33m\u001b[0m\u001b[0m\n\u001b[0m\u001b[0;32m    192\u001b[0m \u001b[1;33m\u001b[0m\u001b[0m\n\u001b[0;32m    193\u001b[0m     \u001b[1;31m# Return SkyCoord object\u001b[0m\u001b[1;33m\u001b[0m\u001b[1;33m\u001b[0m\u001b[1;33m\u001b[0m\u001b[0m\n",
      "\u001b[1;31mNameResolveError\u001b[0m: Unable to find coordinates for name 'Magellanic Cloud'"
     ]
    }
   ],
   "source": [
    "chandra_service = [s for s in services if 'IUE' in s.short_name][0] \n",
    "chandra_service.access_url\n",
    "delori = SkyCoord.from_name(\"Supernova 1987A\")\n",
    "\n",
    "spec_tables = chandra_service.search(pos=delori,diameter=0.1) \n",
    "spec_tables.to_table().show_in_notebook()"
   ]
  },
  {
   "cell_type": "code",
   "execution_count": 51,
   "metadata": {},
   "outputs": [],
   "source": [
   
    "file_name = download_file(spec_tables[0].getdataurl(),cache=True)\n",
    "hdu_list = fits.open(file_name)"
   ]
  },
  {
   "cell_type": "code",
   "execution_count": 52,
   "metadata": {},
   "outputs": [
    {
     "data": {
      "text/html": [
       "<i>Table length=1</i>\n",
       "<table id=\"table2933023458568\" class=\"table-striped table-bordered table-condensed\">\n",
       "<thead><tr><th>WAVE [2048]</th><th>FLUX [2048]</th><th>SIGMA [2048]</th></tr></thead>\n",
       "<thead><tr><th>float32</th><th>float32</th><th>float32</th></tr></thead>\n",
       "<tr><td>815.9551 .. 1877.2511</td><td>-3.640503e-15 .. -2.7708813e-15</td><td>3.3956376e-16 .. 2.584508e-16</td></tr>\n",
       "</table>"
      ],
      "text/plain": [
       "<Table length=1>\n",
       "     WAVE [2048]      ...          SIGMA [2048]        \n",
       "       float32        ...            float32           \n",
       "--------------------- ... -----------------------------\n",
       "815.9551 .. 1877.2511 ... 3.3956376e-16 .. 2.584508e-16"
      ]
     },
     "execution_count": 52,
     "metadata": {},
     "output_type": "execute_result"
    }
   ],
   "source": [
    "spec_table = Table(hdu_list[1].data)\n",
    "spec_table"
   ]
  },
  {
   "cell_type": "code",
   "execution_count": 53,
   "metadata": {},
   "outputs": [
    {
     "data": {
      "image/png": "[encoded data removed]",
      "text/plain": [
       "<Figure size 864x720 with 1 Axes>"
      ]
     },
     "metadata": {
      "needs_background": "light"
     },
     "output_type": "display_data"
    }
   ],
   "source": [
    "matplotlib.rcParams['figure.figsize'] = (12, 10)\n",
    "\n",
    "for i in range(len(spec_table)): \n",
    "    \n",
    "    ax = plt.subplot(6,2,i+1)\n",
    "    pha = plt.plot( spec_table['WAVE'][i],spec_table['FLUX'][i])\n",
    "    ax.set_yscale('log')\n",
    "    \n",
    "   \n",
    "    \n",
    "    plt.tight_layout()"
   ]
  },
  {
   "cell_type": "code",
   "execution_count": null,
   "metadata": {},
   "outputs": [],
   "source": []
  }
 ],
 "metadata": {
  "kernelspec": {
   "display_name": "Python 3",
   "language": "python",
   "name": "python3"
  },
  "language_info": {
   "codemirror_mode": {
    "name": "ipython",
    "version": 3
   },
   "file_extension": ".py",
   "mimetype": "text/x-python",
   "name": "python",
   "nbconvert_exporter": "python",
   "pygments_lexer": "ipython3",
   "version": "3.7.4"
  }
 },
 "nbformat": 4,
 "nbformat_minor": 2
}
